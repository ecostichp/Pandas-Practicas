{
 "cells": [
  {
   "cell_type": "code",
   "execution_count": null,
   "metadata": {},
   "outputs": [],
   "source": [
    "import pandas as pd\n",
    "\n",
    "archivo= \"C:/Users/Lic.Costich/Downloads/examen/Examen Ventas 2022 Looker.xlsx\"\n",
    "data=\"Datos 2022\"\n",
    "vendedorasCE = [21,23,6,55]\n",
    "\n",
    "df = pd.read_excel(archivo, data)\n",
    "df[\"Fecha \"] = pd.to_datetime(df[\"Fecha \"], dayfirst=True)\n",
    "df['esVendedoraCE']= df['Vendedor '].isin(vendedorasCE)\n",
    "df['DocumentoStr']= df['Documento '].to_string()\n",
    "\n",
    "df.info()"
   ]
  },
  {
   "cell_type": "code",
   "execution_count": null,
   "metadata": {},
   "outputs": [],
   "source": [
    "df['Documento '].astype(str).str[:3].unique()"
   ]
  },
  {
   "cell_type": "code",
   "execution_count": null,
   "metadata": {},
   "outputs": [],
   "source": [
    "df[df['esVendedoraCE'] == False]['Documento '].astype(str).str[:3].unique()"
   ]
  },
  {
   "cell_type": "code",
   "execution_count": null,
   "metadata": {},
   "outputs": [],
   "source": [
    "df[df['esVendedoraCE'] == True]['Documento '].astype(str).str[:3].unique()"
   ]
  }
 ],
 "metadata": {
  "kernelspec": {
   "display_name": "env-pandas-practicas",
   "language": "python",
   "name": "python3"
  },
  "language_info": {
   "codemirror_mode": {
    "name": "ipython",
    "version": 3
   },
   "file_extension": ".py",
   "mimetype": "text/x-python",
   "name": "python",
   "nbconvert_exporter": "python",
   "pygments_lexer": "ipython3",
   "version": "3.11.3"
  },
  "orig_nbformat": 4
 },
 "nbformat": 4,
 "nbformat_minor": 2
}
