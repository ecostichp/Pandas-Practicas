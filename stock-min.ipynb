{
 "cells": [
  {
   "cell_type": "code",
   "execution_count": null,
   "metadata": {},
   "outputs": [],
   "source": [
    "import locale\n",
    "import pandas as pd\n",
    "import numpy as np\n",
    "\n",
    "locale.setlocale(locale.LC_ALL, '')"
   ]
  },
  {
   "cell_type": "code",
   "execution_count": null,
   "metadata": {},
   "outputs": [],
   "source": [
    "df = pd.read_excel(\"data.xlsx\", 'data')\n",
    "df.info()"
   ]
  },
  {
   "cell_type": "code",
   "execution_count": null,
   "metadata": {},
   "outputs": [],
   "source": [
    "df[\"Clave de artículo \"] = df[\"Clave de artículo \"].astype(object)\n",
    "df[\"Fecha \"] = pd.to_datetime(df[\"Fecha \"], dayfirst=True)\n",
    "df[\"Cantidad \"] = pd.to_numeric(df[\"Cantidad \"].str.replace(',', ''))\n",
    "df.info()"
   ]
  },
  {
   "cell_type": "code",
   "execution_count": null,
   "metadata": {},
   "outputs": [],
   "source": [
    "dfA = df[df[\"Almacén \"] == 1][[\"Fecha \", \"Cantidad \"]]\n",
    "\n",
    "dfprov = dfA.groupby(\"Fecha \").sum()\n",
    "dfprov[\"Cantidad \"] = dfprov[dfprov[\"Cantidad \"] < 0] * -1\n",
    "dfprov[\"Dias \"] = 1\n",
    "dfprov[\"Probabilidad \"] = 1 / dfprov[\"Cantidad \"].count()\n",
    "\n",
    "tabla = dfprov.groupby(\"Cantidad \").agg(\n",
    "    {\"Dias \": 'count', \"Probabilidad \": 'sum'})\n",
    "tabla[\"Si-dias \"] = tabla[\"Dias \"].cumsum()\n",
    "tabla[\"No-dias \"] = tabla[\"Dias \"].sum() - tabla[\"Si-dias \"]\n",
    "tabla[\"Si-% \"] = tabla[\"Si-dias \"] / tabla[\"Dias \"].sum()\n",
    "tabla[\"No-% \"] = tabla[\"No-dias \"] / tabla[\"Dias \"].sum()\n",
    "\n",
    "tabla"
   ]
  },
  {
   "cell_type": "code",
   "execution_count": null,
   "metadata": {},
   "outputs": [],
   "source": [
    "tabla[tabla[\"Si-% \"] > .95].iloc[0:1]"
   ]
  },
  {
   "cell_type": "code",
   "execution_count": null,
   "metadata": {},
   "outputs": [],
   "source": [
    "almacenes = [1, 2]\n",
    "\n",
    "writer = pd.ExcelWriter(\"stock-mínimo.xlsx\", engine=\"openpyxl\")\n",
    "\n",
    "for almacen in almacenes:\n",
    "\n",
    "    dfA = df[df[\"Almacén \"] == almacen][[\"Fecha \", \"Cantidad \"]]\n",
    "\n",
    "    dfprov = dfA.groupby(\"Fecha \").sum()\n",
    "    dfprov[\"Cantidad \"] = dfprov[dfprov[\"Cantidad \"] < 0] * -1\n",
    "    dfprov[\"Dias \"] = 1\n",
    "    dfprov[\"Probabilidad \"] = 1 / dfprov[\"Cantidad \"].count()\n",
    "\n",
    "    tabla = dfprov.groupby(\"Cantidad \").agg(\n",
    "        {\"Dias \": 'count', \"Probabilidad \": 'sum'})\n",
    "    tabla[\"Si-dias \"] = tabla[\"Dias \"].cumsum()\n",
    "    tabla[\"No-dias \"] = tabla[\"Dias \"].sum() - tabla[\"Si-dias \"]\n",
    "    tabla[\"Si-% \"] = tabla[\"Si-dias \"] / tabla[\"Dias \"].sum()\n",
    "    tabla[\"No-% \"] = tabla[\"No-dias \"] / tabla[\"Dias \"].sum()\n",
    "\n",
    "    tabla.to_excel(writer, sheet_name=f\"A{almacen}\")\n",
    "\n",
    "writer.close()\n",
    "writer.handles = None"
   ]
  }
 ],
 "metadata": {
  "kernelspec": {
   "display_name": ".venv",
   "language": "python",
   "name": "python3"
  },
  "language_info": {
   "codemirror_mode": {
    "name": "ipython",
    "version": 3
   },
   "file_extension": ".py",
   "mimetype": "text/x-python",
   "name": "python",
   "nbconvert_exporter": "python",
   "pygments_lexer": "ipython3",
   "version": "3.11.3"
  },
  "orig_nbformat": 4
 },
 "nbformat": 4,
 "nbformat_minor": 2
}
