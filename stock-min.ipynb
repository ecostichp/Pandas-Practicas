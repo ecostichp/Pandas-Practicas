{
 "cells": [
  {
   "cell_type": "code",
   "execution_count": 1,
   "metadata": {},
   "outputs": [
    {
     "data": {
      "text/plain": [
       "'Spanish_Mexico.1252'"
      ]
     },
     "execution_count": 1,
     "metadata": {},
     "output_type": "execute_result"
    }
   ],
   "source": [
    "import pandas as pd\n",
    "import numpy as np\n",
    "\n",
    "from datetime import datetime\n",
    "\n",
    "import locale\n",
    "locale.setlocale(locale.LC_ALL,'')"
   ]
  },
  {
   "cell_type": "code",
   "execution_count": 2,
   "metadata": {},
   "outputs": [
    {
     "name": "stdout",
     "output_type": "stream",
     "text": [
      "Col 0: Número de movimiento \n",
      "Col 1: Documento \n",
      "Col 2: Clave de artículo \n",
      "Col 3: Descripción \n",
      "Col 4: Línea \n",
      "Col 5: Clave cliente/proveedor \n",
      "Col 6: Concepto \n",
      "Col 7: Fecha \n",
      "Col 8: Vendedor \n",
      "Col 9: Precio \n",
      "Col 10: Costo \n",
      "Col 11: Almacén \n",
      "Col 12: Tipo de documento \n",
      "Col 13: Costo operado \n",
      "Col 14: Cantidad \n"
     ]
    }
   ],
   "source": [
    "columnas = pd.read_excel(\"data.xlsx\",'data', nrows=1).columns\n",
    "i = 0\n",
    "for n in columnas:\n",
    "    print(f'Col {i}:',n)\n",
    "    i+=1"
   ]
  },
  {
   "cell_type": "code",
   "execution_count": 2,
   "metadata": {},
   "outputs": [],
   "source": [
    "df = pd.read_excel(\"data.xlsx\",'data')\n",
    "df[\"Fecha \"] = pd.to_datetime(df[\"Fecha \"], dayfirst=True)"
   ]
  },
  {
   "cell_type": "code",
   "execution_count": 3,
   "metadata": {},
   "outputs": [],
   "source": [
    "dfA1 = df[df[\"Almacén \"] == 1][[\"Almacén \", \"Fecha \",\"Cantidad \"]]\n",
    "dfA2 = df[df[\"Almacén \"] == 2][[\"Almacén \", \"Fecha \",\"Cantidad \"]]"
   ]
  }
 ],
 "metadata": {
  "kernelspec": {
   "display_name": ".venv",
   "language": "python",
   "name": "python3"
  },
  "language_info": {
   "codemirror_mode": {
    "name": "ipython",
    "version": 3
   },
   "file_extension": ".py",
   "mimetype": "text/x-python",
   "name": "python",
   "nbconvert_exporter": "python",
   "pygments_lexer": "ipython3",
   "version": "3.11.3"
  },
  "orig_nbformat": 4
 },
 "nbformat": 4,
 "nbformat_minor": 2
}
